{
 "cells": [
  {
   "cell_type": "code",
   "execution_count": 3,
   "id": "df2f5c14-6e00-47dd-b824-a125fedc92de",
   "metadata": {},
   "outputs": [
    {
     "name": "stdout",
     "output_type": "stream",
     "text": [
      "Fetching post 1/55: My mom thought her P2M diamond collection would save us someday. When my dad got sick, we found out it was nearly worthless.\n",
      "Fetching post 2/55: Almost exactly a year ago from now, I ran away from home to escape abuse with 500php in my pocket. Today, I just reached 200kphp in savings.\n",
      "Fetching post 3/55: [UPDATE] Hey! I'm that 21 yr old college student who was homeless, had 500php in her pocket, and now have 200kphp in savings after a year. A lot of you asked me how I did it, so here's everything I've learned from the past year. I hope this helps :)\n",
      "Fetching post 4/55: PhilHealth and HMOs Don't Cover Everything - Here's How Guarantee Letters Can Save You Thousands in Hospital Expenses\n",
      "Fetching post 5/55: Why my lola's sari sari store taught me more about finance that any finance guru could\n",
      "Fetching post 6/55: Everything I Learned Buying A House in the Philippines\n",
      "Fetching post 7/55: Na-Scam ka na ba ng VUL? Here's what they're not telling you\n",
      "Fetching post 8/55: This is your sign not to buy from the Villar Group\n",
      "Fetching post 9/55: NEVER RENT TO FAMILY. Here's How Our House Turned Into a Cockroach Hotel After 10 Years\n",
      "Fetching post 10/55: The Next Home Buddies?\n",
      "Fetching post 11/55: You're not gonna get rich\n",
      "Fetching post 12/55: The Art of Ejecting Squatters: Read This If You Inherit Unwanted Tenants\n",
      "Fetching post 13/55: UPDATE: Launched a Salon at the end of January. ₱3.5M in Sales; ₱1.1M Net Year-To-Date\n",
      "Fetching post 14/55: You guys did this to me with your advices..\n",
      "Fetching post 15/55: Pinagtaguan na kami ng binabayaran namin ng lupa\n",
      "Fetching post 16/55: Who here earns over 250k per month?\n",
      "Fetching post 17/55: \"beat the inflation\" ???? tangina???\n",
      "Fetching post 18/55: Unpopular Opinion: Financial Literacy won’t make you wealthy if you aren’t making enough money in the first place\n",
      "Fetching post 19/55: POGO banned will be the much needed prick to burst the condo bubble\n",
      "Fetching post 20/55: Revelations as a former Financial Advisor (Insurance Agent) of Pru Life UK\n",
      "Fetching post 21/55: Discovered a market disrupting business, realized I'm not a businessman.\n",
      "Fetching post 22/55: I'd say the Philippines has the highest cost of living in South East Asia after Singapore, yet the lowest standard of living... Why is that?\n",
      "Fetching post 23/55: I keep hearing about people saving for years only for one Hospital Bill to Wipe Out Everything - Why is Healthcare so expensive here\n",
      "Fetching post 24/55: Sobrang sarap pala mag-ipon!\n",
      "Fetching post 25/55: 5 digit-salary earner but has investments. Yes we exist in this sub\n",
      "Fetching post 26/55: Sharing how I gained my passive income while still working on my dead end office job\n",
      "Fetching post 27/55: Applied for a potato corner franchise\n",
      "Fetching post 28/55: Badly need advice. ₱1.3M debt\n",
      "Fetching post 29/55: Only child who lost both parents. I am lost on what to do.\n",
      "Fetching post 30/55: Sharing my personal experiences as a typical 30-yo middle class\n",
      "Fetching post 31/55: Scammed by a fake seller and the payment was through GCash - Solved\n",
      "Fetching post 32/55: Need help, 1.7M debt , 50k monthly income\n",
      "Fetching post 33/55: Launched a Salon at the end of January. This month we hit 400K in revenue.\n",
      "Fetching post 34/55: Choosing a partner is one of the most important financial decision that you will make in ur life\n",
      "Fetching post 35/55: Grabe yung Shopee SLoan. Talagang babaunin ka sa utang.\n",
      "Fetching post 36/55: Mag-ingat sa Villar Investments: Stocks, Condos, Subdivisions - Lahat May Bayad, Pero Sila Lang ang Kumikita!\n",
      "Fetching post 37/55: Filipino Business Nightmares: From Government Red Tape to Vanishing Employees\n",
      "Fetching post 38/55: Sa mga nabubuhay through passive income like apartment rentals and dividends (not working anymore), ano ginagawa nyo on a daily basis?\n",
      "Fetching post 39/55: What screams \"I'm trying too hard to look rich\"? Philippines Edition\n",
      "Fetching post 40/55: Planning to avail PruLife? Mag-isip isip ka muna\n",
      "Fetching post 41/55: All the saving, side hustling, and investing just seems useless without any real societal change\n",
      "Fetching post 42/55: I just reached ₱1M net worth today\n",
      "Fetching post 43/55: 9M savings in 5 years!\n",
      "Fetching post 44/55: Dumating na yung kinakatakot ko\n",
      "Fetching post 45/55: I wanna get rich so bad!\n",
      "Fetching post 46/55: Passive Income ng isang alipin ng Salapi\n",
      "Fetching post 47/55: Money Lessons I Didn’t See Coming in 2024\n",
      "Fetching post 48/55: I am now making 99k a month as a 19-year-old! Here's how I did it and here are my next steps.\n",
      "Fetching post 49/55: Investment Cheat Sheet\n",
      "Fetching post 50/55: Most high-income skills for the next 10-20 years?\n",
      "Fetching post 51/55: Just hit my 1st Million today, Thanks to this Sub.\n",
      "Fetching post 52/55: Reality Check: Only 3% of Filipinos Earn Over 100k/month\n",
      "Fetching post 53/55: Saving/Investing is an addiction\n",
      "Fetching post 54/55: Just as important as increasing your income…\n",
      "Fetching post 55/55: Wtf is up with the freelancers here that don't declare their earnings honestly?\n",
      "finished. total posts fetched: 55\n",
      "saving data - posts to csv\n",
      "saving data - comments to csv\n",
      "ETL complete, data saved\n"
     ]
    }
   ],
   "source": [
    "%run etl.py"
   ]
  },
  {
   "cell_type": "code",
   "execution_count": null,
   "id": "9458fbd2-4a64-476c-aa7b-17475111cdb7",
   "metadata": {},
   "outputs": [],
   "source": []
  }
 ],
 "metadata": {
  "kernelspec": {
   "display_name": "Python 3 (ipykernel)",
   "language": "python",
   "name": "python3"
  },
  "language_info": {
   "codemirror_mode": {
    "name": "ipython",
    "version": 3
   },
   "file_extension": ".py",
   "mimetype": "text/x-python",
   "name": "python",
   "nbconvert_exporter": "python",
   "pygments_lexer": "ipython3",
   "version": "3.12.0"
  }
 },
 "nbformat": 4,
 "nbformat_minor": 5
}
